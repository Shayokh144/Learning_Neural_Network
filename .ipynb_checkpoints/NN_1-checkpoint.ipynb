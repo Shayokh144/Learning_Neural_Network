{
 "cells": [
  {
   "cell_type": "code",
   "execution_count": 1,
   "metadata": {
    "collapsed": true
   },
   "outputs": [],
   "source": [
    "import numpy as np\n",
    "class Network(object):\n",
    "\n",
    "    def __init__(self, layersSizes):\n",
    "        # layersSizes is the list of number of nodes in each layer including input, output\n",
    "        # first one is input, last one is output, others are hidden layers\n",
    "        self.num_layers = len(layersSizes)\n",
    "        self.layersSizes = layersSizes\n",
    "        self.biases = [np.random.randn(numberOfBayes, 1) for numberOfBayes in layersSizes[1:]]\n",
    "        # Bayes needed to be start after the input layer so layersSizes[1:] is used\n",
    "        # self.biases is a list of list like [[bayeses for layer 1], [bayeses for layer 2], .... , [bayeses for layer N-1]]\n",
    "        # (numberOfBayes, 1) here 1 is for 1d array\n",
    "        self.weights = [np.random.randn(row, col) \n",
    "                        for col, row in zip(layersSizes[:-1], layersSizes[1:])]\n",
    "        # self.weights is a list of list like [[weights for layer 1], [weights for layer 2], .... , [weights for layer N-1]]\n",
    "        # [:-1] means before last 1, [1:] means start from the second one\n",
    "        \n"
   ]
  },
  {
   "cell_type": "code",
   "execution_count": 2,
   "metadata": {
    "collapsed": true
   },
   "outputs": [],
   "source": [
    "net = Network([2, 3, 1]) # 2 input nodes, 1 hidden layer with 3 nodes,  1 output node"
   ]
  },
  {
   "cell_type": "code",
   "execution_count": null,
   "metadata": {
    "collapsed": true
   },
   "outputs": [],
   "source": []
  }
 ],
 "metadata": {
  "kernelspec": {
   "display_name": "Python [Root]",
   "language": "python",
   "name": "Python [Root]"
  },
  "language_info": {
   "codemirror_mode": {
    "name": "ipython",
    "version": 3
   },
   "file_extension": ".py",
   "mimetype": "text/x-python",
   "name": "python",
   "nbconvert_exporter": "python",
   "pygments_lexer": "ipython3",
   "version": "3.5.2"
  }
 },
 "nbformat": 4,
 "nbformat_minor": 0
}
