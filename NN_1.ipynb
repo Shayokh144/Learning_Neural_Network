{
 "cells": [
  {
   "cell_type": "code",
   "execution_count": 1,
   "metadata": {
    "collapsed": true
   },
   "outputs": [],
   "source": [
    "import numpy as np\n",
    "class Network(object):\n",
    "\n",
    "    def SGD(self, training_data, epochs, mini_batch_size, learning_rate,\n",
    "            test_data=None):\n",
    "        \"\"\"Train the neural network using mini-batch stochastic\n",
    "        gradient descent.  The \"training_data\" is a list of tuples\n",
    "        \"(x, y)\" representing the training inputs and the desired\n",
    "        outputs.  The other non-optional parameters are\n",
    "        self-explanatory.  If \"test_data\" is provided then the\n",
    "        network will be evaluated against the test data after each\n",
    "        epoch, and partial progress printed out.  This is useful for\n",
    "        tracking progress, but slows things down substantially.\"\"\"\n",
    "        # range(start, stop, step)\n",
    "        if test_data: n_test = len(test_data)\n",
    "        n = len(training_data)\n",
    "        for j in xrange(epochs):\n",
    "            random.shuffle(training_data)\n",
    "            mini_batches = [\n",
    "                training_data[k:k+mini_batch_size]\n",
    "                for k in range(0, n, mini_batch_size)]\n",
    "            for mini_batch in mini_batches:\n",
    "                self.update_mini_batch(mini_batch, learning_rate)\n",
    "            if test_data:\n",
    "                print(\"Epoch \",j, \": \",self.evaluate(test_data), \" / \", n_test)\n",
    "            else:\n",
    "                print(\"Epoch complete:\", j)\n",
    "    def sigmoid(z):\n",
    "        '''\n",
    "        when the input z is a vector or Numpy array, \n",
    "        Numpy automatically applies the function sigmoid elementwise, that is, in vectorized form.\n",
    "        '''\n",
    "        return 1.0/(1.0+np.exp(-z))\n",
    "\n",
    "    def feedforward(self, x):\n",
    "       \n",
    "        for b, w in zip(self.biases, self.weights):\n",
    "            x = sigmoid(np.dot(w, x)+b)\n",
    "        return x\n",
    "        \"\"\"\n",
    "        Return the output of the network if \"x\" is input.\n",
    "        input x can be x1, x2, ..... xn\n",
    "        \"\"\"\n",
    "        \"\"\"\n",
    "        It is assumed that the input x is an (n, 1) Numpy ndarray, not x (n,) vector.\n",
    "        Here, n is the number of inputs to the network. If you try to use an (n,) vector as \n",
    "        input you'll get strange results. Although using an (n,) vector appears the more natural choice, \n",
    "        using an (n, 1) ndarray makes it particularly easy to modify the code to feedforward\n",
    "        multiple inputs at once, and that is sometimes convenient.\n",
    "        \"\"\"\n",
    "\n",
    "    def __init__(self, layersSizes):\n",
    "        # layersSizes is the list of number of nodes in each layer including input, output\n",
    "        # first one is input, last one is output, others are hidden layers\n",
    "        self.num_layers = len(layersSizes)\n",
    "        self.layersSizes = layersSizes\n",
    "        self.biases = [np.random.randn(numberOfBayes, 1) for numberOfBayes in layersSizes[1:]]\n",
    "        # Bayes needed to be start after the input layer so layersSizes[1:] is used\n",
    "        # self.biases is a list of list like [[bayeses for layer 1], [bayeses for layer 2], .... , [bayeses for layer N-1]]\n",
    "        # (numberOfBayes, 1) here 1 is for 1d array\n",
    "        self.weights = [np.random.randn(row, col) \n",
    "                        for col, row in zip(layersSizes[:-1], layersSizes[1:])]\n",
    "        # self.weights is a list of list like [[weights for layer 1], [weights for layer 2], .... , [weights for layer N-1]]\n",
    "        # [:-1] means before last 1, [1:] means start from the second one\n",
    "        \n"
   ]
  },
  {
   "cell_type": "code",
   "execution_count": 2,
   "metadata": {
    "collapsed": true
   },
   "outputs": [],
   "source": [
    "def sigmoid(z):\n",
    "    '''\n",
    "    when the input z is a vector or Numpy array, \n",
    "    Numpy automatically applies the function sigmoid elementwise, that is, in vectorized form.\n",
    "    '''\n",
    "    return 1.0/(1.0+np.exp(-z))"
   ]
  },
  {
   "cell_type": "code",
   "execution_count": 3,
   "metadata": {
    "collapsed": true
   },
   "outputs": [],
   "source": [
    "net = Network([2, 3, 1]) # 2 input nodes, 1 hidden layer with 3 nodes,  1 output node"
   ]
  },
  {
   "cell_type": "code",
   "execution_count": null,
   "metadata": {
    "collapsed": true
   },
   "outputs": [],
   "source": []
  }
 ],
 "metadata": {
  "kernelspec": {
   "display_name": "Python [Root]",
   "language": "python",
   "name": "Python [Root]"
  },
  "language_info": {
   "codemirror_mode": {
    "name": "ipython",
    "version": 3
   },
   "file_extension": ".py",
   "mimetype": "text/x-python",
   "name": "python",
   "nbconvert_exporter": "python",
   "pygments_lexer": "ipython3",
   "version": "3.5.2"
  }
 },
 "nbformat": 4,
 "nbformat_minor": 0
}
